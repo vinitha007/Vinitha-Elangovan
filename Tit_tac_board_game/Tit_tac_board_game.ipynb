{
 "cells": [
  {
   "cell_type": "markdown",
   "metadata": {},
   "source": [
    "#  Creating a Tic_Tac_Board Game\n",
    "### Steps to be followed\n",
    " - Displaying the board\n",
    " - Making players to choose the variable\n",
    " - Defining winning startege\n",
    " - Randomly assigning which player goes first\n",
    " - Checking the borad space\n",
    " - Entering the available position number\n",
    " - Displaying the option of playing again or terminate the Game\n",
    " - combining all and makking it as one programm"
   ]
  },
  {
   "cell_type": "code",
   "execution_count": 1,
   "metadata": {},
   "outputs": [],
   "source": [
    "from IPython.display import clear_output\n",
    "\n",
    "def display_board(board):\n",
    "    clear_output()#to clear the previous output\n",
    "    print(board[7]+'|'+board[8]+'|'+board[9])\n",
    "    print('-----')\n",
    "    print(board[4]+'|'+board[5]+'|'+board[6])\n",
    "    print('-----')\n",
    "    print(board[1]+'|'+board[2]+'|'+board[3])"
   ]
  },
  {
   "cell_type": "code",
   "execution_count": 2,
   "metadata": {},
   "outputs": [
    {
     "name": "stdout",
     "output_type": "stream",
     "text": [
      " | | \n",
      "-----\n",
      " | | \n",
      "-----\n",
      " | | \n"
     ]
    }
   ],
   "source": [
    "test_board = [' ']*10\n",
    "display_board(test_board)"
   ]
  },
  {
   "cell_type": "markdown",
   "metadata": {},
   "source": [
    "## Making players to select the symbol\n",
    "### Either X or O"
   ]
  },
  {
   "cell_type": "code",
   "execution_count": 21,
   "metadata": {},
   "outputs": [],
   "source": [
    "def player_input():\n",
    "    marker = ''\n",
    "    inp = input('Player 1 : Choose X or O: ')\n",
    "    marker = inp.upper()\n",
    "    if marker == 'X':\n",
    "        print('Player 2 : O')\n",
    "        return('X','O')\n",
    "    elif marker == 'O':\n",
    "        print('Player 2 : X')\n",
    "        return('O','X')\n",
    "    elif marker != 'X' and marker != 'O':\n",
    "        print(\"Try entering the right values \")\n",
    "       \n",
    "    \n",
    "    \n",
    "                      "
   ]
  },
  {
   "cell_type": "code",
   "execution_count": 4,
   "metadata": {},
   "outputs": [
    {
     "name": "stdout",
     "output_type": "stream",
     "text": [
      "Player 1 : Choose X or O: x\n",
      "Player 2 : O\n"
     ]
    },
    {
     "data": {
      "text/plain": [
       "('X', 'O')"
      ]
     },
     "execution_count": 4,
     "metadata": {},
     "output_type": "execute_result"
    }
   ],
   "source": [
    "player_input()"
   ]
  },
  {
   "cell_type": "markdown",
   "metadata": {},
   "source": [
    "## Positioning the players markers"
   ]
  },
  {
   "cell_type": "code",
   "execution_count": 5,
   "metadata": {},
   "outputs": [],
   "source": [
    "def place_marker(board, marker, position):\n",
    "    board[position] = marker"
   ]
  },
  {
   "cell_type": "markdown",
   "metadata": {},
   "source": [
    "## Defining the winning statergies "
   ]
  },
  {
   "cell_type": "code",
   "execution_count": 6,
   "metadata": {},
   "outputs": [],
   "source": [
    "def win_check(board, mark):\n",
    "    return((board[1]==board[2] == board[3]== mark) or\n",
    "            (board[4]==board[5] == board[6]== mark)or\n",
    "             (board[7]==board[8] == board[9]== mark) or\n",
    "              (board[1]==board[5] == board[9]== mark) or\n",
    "              (board[7]==board[5] == board[3]== mark) or\n",
    "              (board[1]==board[2] == board[3]== mark) or\n",
    "              (board[3]==board[5] == board[4]== mark) or\n",
    "              (board[1]==board[4] == board[7]== mark) or\n",
    "              (board[2]==board[5] == board[8]== mark) or\n",
    "               (board[3]==board[6] == board[9]== mark))"
   ]
  },
  {
   "cell_type": "markdown",
   "metadata": {},
   "source": [
    "## Which player goes first"
   ]
  },
  {
   "cell_type": "code",
   "execution_count": 7,
   "metadata": {},
   "outputs": [],
   "source": [
    "import random\n",
    "\n",
    "def choose_first():\n",
    "    flip=random.randint(0,1)\n",
    "    if flip==0:\n",
    "        return 'player1'\n",
    "    else:\n",
    "        return 'player2'"
   ]
  },
  {
   "cell_type": "markdown",
   "metadata": {},
   "source": [
    "## Checking board position"
   ]
  },
  {
   "cell_type": "code",
   "execution_count": 8,
   "metadata": {},
   "outputs": [],
   "source": [
    "def space_check(board, position):\n",
    "    return board[position] == ' '\n",
    "    "
   ]
  },
  {
   "cell_type": "code",
   "execution_count": 9,
   "metadata": {},
   "outputs": [],
   "source": [
    "def full_board_check(borad):\n",
    "    for i in range(1,10):\n",
    "        if board[i] == ' ':\n",
    "            return False\n",
    "    return True\n"
   ]
  },
  {
   "cell_type": "markdown",
   "metadata": {},
   "source": [
    "## Entering the correct board position\n"
   ]
  },
  {
   "cell_type": "code",
   "execution_count": 10,
   "metadata": {},
   "outputs": [],
   "source": [
    "def player_choice(board):\n",
    "    position = '0'\n",
    "    while position not in range(1,10) or not space_check(board, position):\n",
    "        position= int(input('Choose the position: (1-9)'))\n",
    "    return position"
   ]
  },
  {
   "cell_type": "markdown",
   "metadata": {},
   "source": [
    "## Wanna play again"
   ]
  },
  {
   "cell_type": "code",
   "execution_count": 13,
   "metadata": {},
   "outputs": [],
   "source": [
    "def replay():\n",
    "    choice= input('Play again? Choose yes or no perfectly as shown: ')\n",
    "    return choice=='yes'\n",
    "    "
   ]
  },
  {
   "cell_type": "markdown",
   "metadata": {},
   "source": [
    "## Combining all functions\n"
   ]
  },
  {
   "cell_type": "code",
   "execution_count": 22,
   "metadata": {},
   "outputs": [
    {
     "name": "stdout",
     "output_type": "stream",
     "text": [
      "Welcome to TIC TAK TOE\n",
      "Player 1 : Choose X or O: o\n",
      "Player 2 : X\n",
      "player2will go first\n",
      "Ready to play?, y or n: n\n",
      "Play again? Choose yes or no perfectly as shown: no\n",
      "Thank you\n"
     ]
    }
   ],
   "source": [
    "print('Welcome to TIC TAK TOE')\n",
    "while True:\n",
    "    #Start the game\n",
    "    board=[' ']*10\n",
    "    player1_marker,player2_marker=player_input()\n",
    "    turn=choose_first()\n",
    "    print(turn + 'will go first')\n",
    "    playgame=input('Ready to play?, y or n: ')\n",
    "    if playgame=='y':\n",
    "        gameon=True\n",
    "    else:\n",
    "        gameon=False\n",
    "    while gameon:\n",
    "        if turn=='player1':\n",
    "            display_board(board)\n",
    "            position=player_choice(board)\n",
    "            place_marker(board,player1_marker,position)\n",
    "            if win_check(board,player1_marker):\n",
    "                display_board(board)\n",
    "                print(\"Player 1 has won\")\n",
    "                gameon=False\n",
    "            else:\n",
    "                if full_board_check(board):\n",
    "                    display_board(board)\n",
    "                    print('Tie Game')\n",
    "                    gameon=False\n",
    "                else:\n",
    "                    turn='player2'\n",
    "\n",
    "        else:\n",
    "            display_board(board)\n",
    "            position=player_choice(board)\n",
    "            place_marker(board,player2_marker,position)\n",
    "            if win_check(board,player2_marker):\n",
    "                display_board(board)\n",
    "                print(\"Player 2 has won\")\n",
    "                gameon=False\n",
    "            else:\n",
    "                if full_board_check(board):\n",
    "                    display_board(board)\n",
    "                    print('Tie Game')\n",
    "                    gameon=False\n",
    "                else:\n",
    "                    turn='player1'\n",
    "\n",
    "\n",
    "    if not replay():\n",
    "        print(\"Thank you\")\n",
    "        break"
   ]
  },
  {
   "cell_type": "code",
   "execution_count": null,
   "metadata": {},
   "outputs": [],
   "source": []
  }
 ],
 "metadata": {
  "kernelspec": {
   "display_name": "Python 3",
   "language": "python",
   "name": "python3"
  },
  "language_info": {
   "codemirror_mode": {
    "name": "ipython",
    "version": 3
   },
   "file_extension": ".py",
   "mimetype": "text/x-python",
   "name": "python",
   "nbconvert_exporter": "python",
   "pygments_lexer": "ipython3",
   "version": "3.6.8"
  }
 },
 "nbformat": 4,
 "nbformat_minor": 2
}
